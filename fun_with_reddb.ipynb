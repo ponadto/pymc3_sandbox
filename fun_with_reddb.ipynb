{
 "cells": [
  {
   "cell_type": "code",
   "execution_count": null,
   "metadata": {
    "collapsed": true
   },
   "outputs": [],
   "source": [
    "import numpy as np\n",
    "import scipy as sc\n",
    "import matplotlib.pyplot as plt\n",
    "import pymc3 as pm\n",
    "import pandas as pd\n",
    "import os\n",
    "\n",
    "np.random.seed(123)\n",
    "\n",
    "%matplotlib inline\n",
    "plt.style.use('ggplot')\n",
    "\n",
    "import matplotlib\n",
    "\n",
    "text_size = 20\n",
    "\n",
    "matplotlib.rcParams['figure.figsize'] = (15, 10)\n",
    "matplotlib.rcParams['axes.titlesize'] = text_size\n",
    "matplotlib.rcParams['axes.labelsize'] = text_size - 2\n",
    "matplotlib.rcParams['xtick.labelsize'] = text_size - 4\n",
    "matplotlib.rcParams['ytick.labelsize'] = text_size - 4"
   ]
  },
  {
   "cell_type": "markdown",
   "metadata": {},
   "source": [
    "# UWAGI:\n",
    "* `MaskedArray` z `numpy` pozawala wepchnac brakujace wartosci (podobnie `pandas`owy `DataFrame` z wartosciami `NaN`);"
   ]
  },
  {
   "cell_type": "code",
   "execution_count": null,
   "metadata": {
    "collapsed": true
   },
   "outputs": [],
   "source": [
    "from datetime import datetime\n",
    "DF_reddb = pd.read_csv('reddb.csv')\n",
    "\n",
    "# przeprocesuj kolumne `Hour()`\n",
    "DF_reddb['hour'] = DF_reddb['Hour()'].apply(lambda s: datetime.strptime(s, '%H %d/%m/%Y'))\n",
    "DF_reddb['day'] = DF_reddb['Hour()'].apply(lambda s: datetime.strptime(s, '%H %d/%m/%Y'))"
   ]
  },
  {
   "cell_type": "code",
   "execution_count": null,
   "metadata": {
    "collapsed": true
   },
   "outputs": [],
   "source": [
    "# wykresy statow\n",
    "\n",
    "stats = ['imp', 'index', 'pro_index', 'pro_scroll_8_8', 'con1']\n",
    "\n",
    "fig = plt.figure(figsize = (30, 5))\n",
    "\n",
    "for stat_number, stat_name in enumerate(stats):\n",
    "    ax = fig.add_subplot(1, len(stats), stat_number + 1)\n",
    "    ax.hist(DF_reddb[stat_name])\n",
    "    ax.set_xlabel('log10({0})'.format(stat_name))\n",
    "    if stat_number == 0:\n",
    "        ax.set_ylabel('log10(count)')\n",
    "    ax.set_xscale('log')\n",
    "    ax.set_yscale('log')"
   ]
  },
  {
   "cell_type": "code",
   "execution_count": null,
   "metadata": {
    "collapsed": true
   },
   "outputs": [],
   "source": [
    "DF_reddb.show()"
   ]
  },
  {
   "cell_type": "markdown",
   "metadata": {},
   "source": [
    "# Pierwsza proba stworzenia modelu"
   ]
  },
  {
   "cell_type": "markdown",
   "metadata": {},
   "source": [
    "$$ \\sigma \\sim Exponential(50) $$\n",
    "\n",
    "$$ \\nu \\sim Exponential(.1) $$\n",
    "\n",
    "$$ s_i \\sim Normal(s_{i-1}, \\sigma^{-2}) $$\n",
    "\n",
    "$$ log(\\frac{y_i}{y_{i-1}}) \\sim t(\\nu, 0, exp(-2 s_i)) $$"
   ]
  },
  {
   "cell_type": "code",
   "execution_count": 8,
   "metadata": {
    "collapsed": false
   },
   "outputs": [],
   "source": [
    "import numpy as np\n",
    "import pymc3 as pm\n",
    "from pymc3.distributions.timeseries import GaussianRandomWalk\n",
    "\n",
    "N = 10**3\n",
    "succ = np.array([12, 12, 13, 12, 9, 7, 2, 0])\n",
    "tries = np.array([1.0, 1.1, 1.5, 1.6, 1.1, 0.9, 0.9, 0.2]) * N\n",
    "n = len(succ)"
   ]
  },
  {
   "cell_type": "code",
   "execution_count": 22,
   "metadata": {
    "collapsed": false,
    "scrolled": true
   },
   "outputs": [
    {
     "name": "stdout",
     "output_type": "stream",
     "text": [
      "Applied log-transform to sigma and added transformed sigma_log to model.\n",
      "Applied logodds-transform to rate and added transformed rate_logodds to model.\n"
     ]
    }
   ],
   "source": [
    "alpha = 1\n",
    "\n",
    "with pm.Model() as test_model:\n",
    "    sigma = pm.Exponential('sigma', 1./.02, testval = .1)\n",
    "    \n",
    "    betas = GaussianRandomWalk('betas', sigma**-2, shape = n)\n",
    "    \n",
    "    rates = pm.Beta('rate', alpha, betas, shape = n)\n",
    "    \n",
    "    for ind in range(n):\n",
    "        clicks = pm.Binomial('clicks', tries[ind], rate[ind], observed = succ[ind])"
   ]
  },
  {
   "cell_type": "code",
   "execution_count": 25,
   "metadata": {
    "collapsed": false,
    "scrolled": true
   },
   "outputs": [
    {
     "ename": "ValueError",
     "evalue": "Optimization error: max, logp or dlogp at max have non-finite values. Some values may be outside of distribution support. max: {'betas': array([ 0.,  0.,  0.,  0.,  0.,  0.,  0.,  0.]), 'rate_logodds_': array([ inf,  inf,  inf,  inf,  inf,  inf,  inf,  inf]), 'sigma_log_': array(-13.302585092994049)} logp: array(-inf) dlogp: array([-6.00008351,  0.        ,  0.        ,  0.        ,  0.        ,\n        0.        ,  0.        ,  0.        ,  0.        ,         nan,\n               nan,         nan,         nan,         nan,         nan,\n               nan,         nan])Check that 1) you don't have hierarchical parameters, these will lead to points with infinite density. 2) your distribution logp's are properly specified. Specific issues: \nrate_logodds_.dlogp bad at idx: (array([0, 1, 2, 3, 4, 5, 6, 7]),) with values: [ nan  nan  nan  nan  nan  nan  nan  nan]\nrate_logodds_.value bad: [ inf  inf  inf  inf  inf  inf  inf  inf]\nrate_logodds_.logp bad: -inf",
     "output_type": "error",
     "traceback": [
      "\u001b[1;31m\u001b[0m",
      "\u001b[1;31mValueError\u001b[0mTraceback (most recent call last)",
      "\u001b[1;32m<ipython-input-25-dfb4288fff9d>\u001b[0m in \u001b[0;36m<module>\u001b[1;34m()\u001b[0m\n\u001b[0;32m      1\u001b[0m \u001b[1;32mwith\u001b[0m \u001b[0mtest_model\u001b[0m\u001b[1;33m:\u001b[0m\u001b[1;33m\u001b[0m\u001b[0m\n\u001b[1;32m----> 2\u001b[1;33m     \u001b[0mstart\u001b[0m \u001b[1;33m=\u001b[0m \u001b[0mpm\u001b[0m\u001b[1;33m.\u001b[0m\u001b[0mfind_MAP\u001b[0m\u001b[1;33m(\u001b[0m\u001b[1;33m)\u001b[0m\u001b[1;33m\u001b[0m\u001b[0m\n\u001b[0m\u001b[0;32m      3\u001b[0m     \u001b[0mstep1\u001b[0m \u001b[1;33m=\u001b[0m \u001b[0mpm\u001b[0m\u001b[1;33m.\u001b[0m\u001b[0mNUTS\u001b[0m\u001b[1;33m(\u001b[0m\u001b[0mstart\u001b[0m \u001b[1;33m=\u001b[0m \u001b[0mstart\u001b[0m\u001b[1;33m,\u001b[0m \u001b[0mvars\u001b[0m \u001b[1;33m=\u001b[0m \u001b[1;33m[\u001b[0m\u001b[0msigma\u001b[0m\u001b[1;33m,\u001b[0m \u001b[0mbetas\u001b[0m\u001b[1;33m,\u001b[0m \u001b[0mrate\u001b[0m\u001b[1;33m]\u001b[0m\u001b[1;33m)\u001b[0m\u001b[1;33m\u001b[0m\u001b[0m\n\u001b[0;32m      4\u001b[0m     \u001b[0mstep2\u001b[0m \u001b[1;33m=\u001b[0m \u001b[0mpm\u001b[0m\u001b[1;33m.\u001b[0m\u001b[0mMetropolis\u001b[0m\u001b[1;33m(\u001b[0m\u001b[0mstart\u001b[0m \u001b[1;33m=\u001b[0m \u001b[0mstart\u001b[0m\u001b[1;33m,\u001b[0m \u001b[0mvars\u001b[0m \u001b[1;33m=\u001b[0m \u001b[1;33m[\u001b[0m\u001b[0mclicks\u001b[0m\u001b[1;33m]\u001b[0m\u001b[1;33m)\u001b[0m\u001b[1;33m\u001b[0m\u001b[0m\n\u001b[0;32m      5\u001b[0m \u001b[1;33m\u001b[0m\u001b[0m\n",
      "\u001b[1;32m/usr/local/lib/python3.4/dist-packages/pymc3/tuning/starting.py\u001b[0m in \u001b[0;36mfind_MAP\u001b[1;34m(start, vars, fmin, return_raw, model, *args, **kwargs)\u001b[0m\n\u001b[0;32m    125\u001b[0m                          \u001b[1;34m\"density. 2) your distribution logp's are \"\u001b[0m \u001b[1;33m+\u001b[0m\u001b[1;33m\u001b[0m\u001b[0m\n\u001b[0;32m    126\u001b[0m                          \u001b[1;34m\"properly specified. Specific issues: \\n\"\u001b[0m \u001b[1;33m+\u001b[0m\u001b[1;33m\u001b[0m\u001b[0m\n\u001b[1;32m--> 127\u001b[1;33m                          specific_errors)\n\u001b[0m\u001b[0;32m    128\u001b[0m     \u001b[0mmx\u001b[0m \u001b[1;33m=\u001b[0m \u001b[1;33m{\u001b[0m\u001b[0mv\u001b[0m\u001b[1;33m.\u001b[0m\u001b[0mname\u001b[0m\u001b[1;33m:\u001b[0m \u001b[0mmx\u001b[0m\u001b[1;33m[\u001b[0m\u001b[0mv\u001b[0m\u001b[1;33m.\u001b[0m\u001b[0mname\u001b[0m\u001b[1;33m]\u001b[0m\u001b[1;33m.\u001b[0m\u001b[0mastype\u001b[0m\u001b[1;33m(\u001b[0m\u001b[0mv\u001b[0m\u001b[1;33m.\u001b[0m\u001b[0mdtype\u001b[0m\u001b[1;33m)\u001b[0m \u001b[1;32mfor\u001b[0m \u001b[0mv\u001b[0m \u001b[1;32min\u001b[0m \u001b[0mmodel\u001b[0m\u001b[1;33m.\u001b[0m\u001b[0mvars\u001b[0m\u001b[1;33m}\u001b[0m\u001b[1;33m\u001b[0m\u001b[0m\n\u001b[0;32m    129\u001b[0m \u001b[1;33m\u001b[0m\u001b[0m\n",
      "\u001b[1;31mValueError\u001b[0m: Optimization error: max, logp or dlogp at max have non-finite values. Some values may be outside of distribution support. max: {'betas': array([ 0.,  0.,  0.,  0.,  0.,  0.,  0.,  0.]), 'rate_logodds_': array([ inf,  inf,  inf,  inf,  inf,  inf,  inf,  inf]), 'sigma_log_': array(-13.302585092994049)} logp: array(-inf) dlogp: array([-6.00008351,  0.        ,  0.        ,  0.        ,  0.        ,\n        0.        ,  0.        ,  0.        ,  0.        ,         nan,\n               nan,         nan,         nan,         nan,         nan,\n               nan,         nan])Check that 1) you don't have hierarchical parameters, these will lead to points with infinite density. 2) your distribution logp's are properly specified. Specific issues: \nrate_logodds_.dlogp bad at idx: (array([0, 1, 2, 3, 4, 5, 6, 7]),) with values: [ nan  nan  nan  nan  nan  nan  nan  nan]\nrate_logodds_.value bad: [ inf  inf  inf  inf  inf  inf  inf  inf]\nrate_logodds_.logp bad: -inf"
     ]
    }
   ],
   "source": [
    "with test_model:\n",
    "    start = pm.find_MAP()\n",
    "    step1 = pm.NUTS(start = start, vars = [sigma, betas, rate])\n",
    "    step2 = pm.Metropolis(start = start, vars = [clicks])\n",
    "\n",
    "    trace = pm.sample(1000, start = start, step = [step1, step2], progressbar = True)"
   ]
  },
  {
   "cell_type": "code",
   "execution_count": null,
   "metadata": {
    "collapsed": true
   },
   "outputs": [],
   "source": []
  }
 ],
 "metadata": {
  "kernelspec": {
   "display_name": "Python 3",
   "language": "python",
   "name": "python3"
  },
  "language_info": {
   "codemirror_mode": {
    "name": "ipython",
    "version": 3
   },
   "file_extension": ".py",
   "mimetype": "text/x-python",
   "name": "python",
   "nbconvert_exporter": "python",
   "pygments_lexer": "ipython3",
   "version": "3.4.0"
  }
 },
 "nbformat": 4,
 "nbformat_minor": 0
}
