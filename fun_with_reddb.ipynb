{
 "cells": [
  {
   "cell_type": "code",
   "execution_count": null,
   "metadata": {
    "collapsed": true
   },
   "outputs": [],
   "source": [
    "import numpy as np\n",
    "import scipy as sc\n",
    "import matplotlib.pyplot as plt\n",
    "import pymc3 as pm\n",
    "import pandas as pd\n",
    "import os\n",
    "\n",
    "np.random.seed(123)\n",
    "\n",
    "%matplotlib inline\n",
    "plt.style.use('ggplot')\n",
    "\n",
    "import matplotlib\n",
    "\n",
    "text_size = 20\n",
    "\n",
    "matplotlib.rcParams['figure.figsize'] = (15, 10)\n",
    "matplotlib.rcParams['axes.titlesize'] = text_size\n",
    "matplotlib.rcParams['axes.labelsize'] = text_size - 2\n",
    "matplotlib.rcParams['xtick.labelsize'] = text_size - 4\n",
    "matplotlib.rcParams['ytick.labelsize'] = text_size - 4"
   ]
  },
  {
   "cell_type": "markdown",
   "metadata": {},
   "source": [
    "# UWAGI:\n",
    "* `MaskedArray` z `numpy` pozawala wepchnac brakujace wartosci (podobnie `pandas`owy `DataFrame` z wartosciami `NaN`);"
   ]
  },
  {
   "cell_type": "code",
   "execution_count": null,
   "metadata": {
    "collapsed": true
   },
   "outputs": [],
   "source": [
    "from datetime import datetime\n",
    "DF_reddb = pd.read_csv('reddb.csv')\n",
    "\n",
    "# przeprocesuj kolumne `Hour()`\n",
    "DF_reddb['hour'] = DF_reddb['Hour()'].apply(lambda s: datetime.strptime(s, '%H %d/%m/%Y'))\n",
    "DF_reddb['day'] = DF_reddb['Hour()'].apply(lambda s: datetime.strptime(s, '%H %d/%m/%Y'))"
   ]
  },
  {
   "cell_type": "code",
   "execution_count": null,
   "metadata": {
    "collapsed": true
   },
   "outputs": [],
   "source": [
    "# wykresy statow\n",
    "\n",
    "stats = ['imp', 'index', 'pro_index', 'pro_scroll_8_8', 'con1']\n",
    "\n",
    "fig = plt.figure(figsize = (30, 5))\n",
    "\n",
    "for stat_number, stat_name in enumerate(stats):\n",
    "    ax = fig.add_subplot(1, len(stats), stat_number + 1)\n",
    "    ax.hist(DF_reddb[stat_name])\n",
    "    ax.set_xlabel('log10({0})'.format(stat_name))\n",
    "    if stat_number == 0:\n",
    "        ax.set_ylabel('log10(count)')\n",
    "    ax.set_xscale('log')\n",
    "    ax.set_yscale('log')"
   ]
  }
 ],
 "metadata": {
  "kernelspec": {
   "display_name": "Python 3",
   "language": "python",
   "name": "python3"
  },
  "language_info": {
   "codemirror_mode": {
    "name": "ipython",
    "version": 3
   },
   "file_extension": ".py",
   "mimetype": "text/x-python",
   "name": "python",
   "nbconvert_exporter": "python",
   "pygments_lexer": "ipython3",
   "version": "3.4.0"
  }
 },
 "nbformat": 4,
 "nbformat_minor": 0
}
