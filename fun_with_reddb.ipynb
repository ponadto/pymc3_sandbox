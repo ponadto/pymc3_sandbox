{
 "cells": [
  {
   "cell_type": "code",
   "execution_count": null,
   "metadata": {
    "collapsed": true
   },
   "outputs": [],
   "source": [
    "import numpy as np\n",
    "import scipy as sc\n",
    "import matplotlib.pyplot as plt\n",
    "import pymc3 as pm\n",
    "import pandas as pd\n",
    "import os\n",
    "\n",
    "np.random.seed(123)\n",
    "\n",
    "%matplotlib inline\n",
    "plt.style.use('ggplot')\n",
    "\n",
    "import matplotlib\n",
    "\n",
    "text_size = 20\n",
    "\n",
    "matplotlib.rcParams['figure.figsize'] = (15, 10)\n",
    "matplotlib.rcParams['axes.titlesize'] = text_size\n",
    "matplotlib.rcParams['axes.labelsize'] = text_size - 2\n",
    "matplotlib.rcParams['xtick.labelsize'] = text_size - 4\n",
    "matplotlib.rcParams['ytick.labelsize'] = text_size - 4"
   ]
  },
  {
   "cell_type": "markdown",
   "metadata": {},
   "source": [
    "# UWAGI:\n",
    "* `MaskedArray` z `numpy` pozawala wepchnac brakujace wartosci (podobnie `pandas`owy `DataFrame` z wartosciami `NaN`);"
   ]
  },
  {
   "cell_type": "code",
   "execution_count": null,
   "metadata": {
    "collapsed": true
   },
   "outputs": [],
   "source": [
    "from datetime import datetime\n",
    "DF_reddb = pd.read_csv('reddb.csv')\n",
    "\n",
    "# przeprocesuj kolumne `Hour()`\n",
    "DF_reddb['hour'] = DF_reddb['Hour()'].apply(lambda s: datetime.strptime(s, '%H %d/%m/%Y'))\n",
    "DF_reddb['day'] = DF_reddb['Hour()'].apply(lambda s: datetime.strptime(s, '%H %d/%m/%Y'))"
   ]
  },
  {
   "cell_type": "code",
   "execution_count": null,
   "metadata": {
    "collapsed": true
   },
   "outputs": [],
   "source": [
    "# wykresy statow\n",
    "\n",
    "stats = ['imp', 'index', 'pro_index', 'pro_scroll_8_8', 'con1']\n",
    "\n",
    "fig = plt.figure(figsize = (30, 5))\n",
    "\n",
    "for stat_number, stat_name in enumerate(stats):\n",
    "    ax = fig.add_subplot(1, len(stats), stat_number + 1)\n",
    "    ax.hist(DF_reddb[stat_name])\n",
    "    ax.set_xlabel('log10({0})'.format(stat_name))\n",
    "    if stat_number == 0:\n",
    "        ax.set_ylabel('log10(count)')\n",
    "    ax.set_xscale('log')\n",
    "    ax.set_yscale('log')"
   ]
  },
  {
   "cell_type": "code",
   "execution_count": null,
   "metadata": {
    "collapsed": true
   },
   "outputs": [],
   "source": [
    "DF_reddb.show()"
   ]
  },
  {
   "cell_type": "markdown",
   "metadata": {},
   "source": [
    "# Pierwsza proba stworzenia modelu"
   ]
  },
  {
   "cell_type": "markdown",
   "metadata": {},
   "source": [
    "$$ \\sigma \\sim Exponential(50) $$\n",
    "\n",
    "$$ \\nu \\sim Exponential(.1) $$\n",
    "\n",
    "$$ s_i \\sim Normal(s_{i-1}, \\sigma^{-2}) $$\n",
    "\n",
    "$$ log(\\frac{y_i}{y_{i-1}}) \\sim t(\\nu, 0, exp(-2 s_i)) $$"
   ]
  },
  {
   "cell_type": "code",
   "execution_count": 1,
   "metadata": {
    "collapsed": false
   },
   "outputs": [
    {
     "name": "stderr",
     "output_type": "stream",
     "text": [
      "/usr/local/lib/python3.4/dist-packages/joblib/_multiprocessing_helpers.py:29: UserWarning: [Errno 13] Permission denied.  joblib will operate in serial mode\n",
      "  warnings.warn('%s.  joblib will operate in serial mode' % (e,))\n"
     ]
    }
   ],
   "source": [
    "import numpy as np\n",
    "import pymc3 as pm\n",
    "from pymc3.distributions.timeseries import GaussianRandomWalk\n",
    "\n",
    "N = 10**3\n",
    "succ = np.array([12, 12, 13, 12, 9, 7, 2, 0])\n",
    "tries = np.array([1.0, 1.1, 1.5, 1.6, 1.1, 0.9, 0.9, 0.2]) * N\n",
    "n = len(succ)\n",
    "\n",
    "\n"
   ]
  },
  {
   "cell_type": "code",
   "execution_count": null,
   "metadata": {
    "collapsed": true
   },
   "outputs": [],
   "source": [
    "N = 10**3\n",
    "kids = np.array([1.0, 1.1, 1.5, 1.6, 1.1, 0.9, 0.9, 0.2]) * N\n",
    "\n",
    "rsv_cases = np.array([12, 12, 13, 12, 9, 7, 2, 0])\n",
    "\n",
    "n = len(rsv_cases)\n",
    "\n",
    "with pm.Model() as test_model:\n",
    "    \n",
    "    # Prior probability\n",
    "    prop = pm.Beta('prev_rsv', 1, N, shape = n)\n",
    "    \n",
    "    # Number of 1 y.o. in Amman\n",
    "    n_amman = pm.Binomial('n_amman', kids, prop, shape = n)\n",
    "    \n",
    "    # Likelihood for number with RSV in hospital (assumes Pr(hosp | RSV) = 1)\n",
    "    y_hosp = pm.Binomial('y_hosp', y_amman, market_share, observed = rsv_cases)\n",
    "\n",
    "    trace = pm.sample(20000, step = pm.Metropolis())"
   ]
  },
  {
   "cell_type": "code",
   "execution_count": 5,
   "metadata": {
    "collapsed": false
   },
   "outputs": [
    {
     "name": "stdout",
     "output_type": "stream",
     "text": [
      "Help on class Binomial in module pymc3.distributions.discrete:\n",
      "\n",
      "class Binomial(pymc3.distributions.distribution.Discrete)\n",
      " |  Binomial log-likelihood.\n",
      " |  \n",
      " |  The discrete probability distribution of the number of successes\n",
      " |  in a sequence of n independent yes/no experiments, each of which\n",
      " |  yields success with probability p.\n",
      " |  \n",
      " |  .. math:: f(x \\mid n, p) = \\binom{n}{x} p^x (1-p)^{n-x}\n",
      " |  \n",
      " |  ========  ==========================================\n",
      " |  Support   :math:`x \\in \\{0, 1, \\ldots, n\\}`\n",
      " |  Mean      :math:`n p`\n",
      " |  Variance  :math:`n p (1 - p)`\n",
      " |  ========  ==========================================\n",
      " |  \n",
      " |  Parameters\n",
      " |  ----------\n",
      " |  n : int\n",
      " |      Number of Bernoulli trials (n >= 0).\n",
      " |  p : float\n",
      " |      Probability of success in each trial (0 < p < 1).\n",
      " |  \n",
      " |  Method resolution order:\n",
      " |      Binomial\n",
      " |      pymc3.distributions.distribution.Discrete\n",
      " |      pymc3.distributions.distribution.Distribution\n",
      " |      builtins.object\n",
      " |  \n",
      " |  Methods defined here:\n",
      " |  \n",
      " |  __init__(self, n, p, *args, **kwargs)\n",
      " |  \n",
      " |  logp(self, value)\n",
      " |  \n",
      " |  random(self, point=None, size=None, repeat=None)\n",
      " |  \n",
      " |  ----------------------------------------------------------------------\n",
      " |  Methods inherited from pymc3.distributions.distribution.Distribution:\n",
      " |  \n",
      " |  __getnewargs__(self)\n",
      " |  \n",
      " |  default(self)\n",
      " |  \n",
      " |  get_test_val(self, val, defaults)\n",
      " |  \n",
      " |  getattr_value(self, val)\n",
      " |  \n",
      " |  ----------------------------------------------------------------------\n",
      " |  Class methods inherited from pymc3.distributions.distribution.Distribution:\n",
      " |  \n",
      " |  dist(*args, **kwargs) from builtins.type\n",
      " |  \n",
      " |  ----------------------------------------------------------------------\n",
      " |  Static methods inherited from pymc3.distributions.distribution.Distribution:\n",
      " |  \n",
      " |  __new__(cls, name, *args, **kwargs)\n",
      " |  \n",
      " |  ----------------------------------------------------------------------\n",
      " |  Data descriptors inherited from pymc3.distributions.distribution.Distribution:\n",
      " |  \n",
      " |  __dict__\n",
      " |      dictionary for instance variables (if defined)\n",
      " |  \n",
      " |  __weakref__\n",
      " |      list of weak references to the object (if defined)\n",
      "\n"
     ]
    }
   ],
   "source": [
    "with pm.Model() as test_model:\n",
    "\n",
    "    trace = pm.sample(10000, step=pm.Metropolis())\n",
    "\n",
    "    step1 = pm.NUTS(scaling=trace[-1], vars=[prev_rsv])\n",
    "    step2 = pm.Metropolis(vars=[market_share, n_amman, y_amman], tune_interval=10)\n",
    "\n",
    "    trace = pm.sample(5000, step=(step1, step2), start=trace[-1])"
   ]
  },
  {
   "cell_type": "code",
   "execution_count": null,
   "metadata": {
    "collapsed": true
   },
   "outputs": [],
   "source": []
  }
 ],
 "metadata": {
  "kernelspec": {
   "display_name": "Python 3",
   "language": "python",
   "name": "python3"
  },
  "language_info": {
   "codemirror_mode": {
    "name": "ipython",
    "version": 3
   },
   "file_extension": ".py",
   "mimetype": "text/x-python",
   "name": "python",
   "nbconvert_exporter": "python",
   "pygments_lexer": "ipython3",
   "version": "3.4.0"
  }
 },
 "nbformat": 4,
 "nbformat_minor": 0
}
